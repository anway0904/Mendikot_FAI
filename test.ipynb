{
 "cells": [
  {
   "cell_type": "code",
   "execution_count": 1,
   "metadata": {},
   "outputs": [],
   "source": [
    "%load_ext autoreload\n",
    "%autoreload 2\n",
    "import numpy as np\n",
    "import env\n",
    "from MACROS import *"
   ]
  },
  {
   "cell_type": "code",
   "execution_count": 214,
   "metadata": {},
   "outputs": [
    {
     "name": "stdout",
     "output_type": "stream",
     "text": [
      "12\n"
     ]
    }
   ],
   "source": [
    "SUITS = ['S', 'H', 'C', 'D']\n",
    "CARDS = ['2', '3', '4', '5', '6', '7', '8', '9', 'T', 'J', 'Q', 'K', 'A']\n",
    "CARD_IDX = np.arange(len(CARDS)*len(SUITS)).reshape(len(CARDS), len(SUITS))\n",
    "\n",
    "print(CARD_IDX[CARDS.index('5'),SUITS.index('S')])"
   ]
  },
  {
   "cell_type": "markdown",
   "metadata": {},
   "source": [
    "Get Card Data from game_matrix"
   ]
  },
  {
   "cell_type": "code",
   "execution_count": 215,
   "metadata": {},
   "outputs": [
    {
     "name": "stdout",
     "output_type": "stream",
     "text": [
      "Card: 9 S\n",
      "Card Index : 28\n",
      "\n",
      "--------------------------\n",
      "\n",
      "CARD_FOR_PLAYING : 0.0\n",
      "CARD_IN_HAND_AGENT : 0.0\n",
      "CARD_IN_HAND_OPPNT_1 : 0.0\n",
      "CARD_IN_HAND_TEAM : 0.0\n",
      "CARD_IN_HAND_OPPNT_2 : 0.0\n",
      "CARD_AVAILABLE : 0.0\n",
      "CARD_CURR_TRICK_AGENT : 0.0\n",
      "CARD_CURR_TRICK_OPPNT_1 : 0.0\n",
      "CARD_CURR_TRICK_TEAM : 0.0\n",
      "CARD_CURR_TRICK_OPPNT_2 : 0.0\n",
      "CARD_PREV_TRICK_AGENT : 0.0\n",
      "CARD_PREV_TRICK_OPPNT_1 : 0.0\n",
      "CARD_PREV_TRICK_TEAM : 0.0\n",
      "CARD_PREV_TRICK_OPPNT_2 : 0.0\n",
      "CARD_TRUMP : 0.0\n"
     ]
    }
   ],
   "source": [
    "# PRINT THE game_matrix\n",
    "mendikot = env.Mendikot()\n",
    "\n",
    "macro_list = [\n",
    "    \"CARD_FOR_PLAYING\",\n",
    "    \"CARD_IN_HAND_AGENT\",\n",
    "    \"CARD_IN_HAND_OPPNT_1\",\n",
    "    \"CARD_IN_HAND_TEAM\",\n",
    "    \"CARD_IN_HAND_OPPNT_2\",\n",
    "    \"CARD_AVAILABLE\",\n",
    "    \"CARD_CURR_TRICK_AGENT\",\n",
    "    \"CARD_CURR_TRICK_OPPNT_1\",\n",
    "    \"CARD_CURR_TRICK_TEAM\",\n",
    "    \"CARD_CURR_TRICK_OPPNT_2\",\n",
    "    \"CARD_PREV_TRICK_AGENT\",\n",
    "    \"CARD_PREV_TRICK_OPPNT_1\",\n",
    "    \"CARD_PREV_TRICK_TEAM\",\n",
    "    \"CARD_PREV_TRICK_OPPNT_2\",\n",
    "    \"CARD_TRUMP\"\n",
    "]\n",
    "\n",
    "card = '9'\n",
    "suit = 'S'\n",
    "\n",
    "card_index = CARD_IDX[CARDS.index(card), SUITS.index(suit)]\n",
    "print(f\"Card: {card} {suit}\")\n",
    "print(f\"Card Index : {card_index}\")\n",
    "\n",
    "print(\"\\n--------------------------\\n\")\n",
    "for item in macro_list:\n",
    "    print(f\"{item} : {mendikot.game_matrix[card_index,macro_list.index(item)]}\")\n"
   ]
  },
  {
   "cell_type": "code",
   "execution_count": 216,
   "metadata": {},
   "outputs": [
    {
     "name": "stdout",
     "output_type": "stream",
     "text": [
      "Starting Game\n",
      "AGENT\tT♥ K♠ K♣ A♠ \n",
      "OPPNT1\tT♣ T♦ Q♠ Q♦ \n",
      "TEAM\tT♠ Q♥ K♦ A♣ \n",
      "OPPNT2\tQ♣ K♥ A♥ A♦ \n",
      "TRUMP\t♥\n",
      "K♣\n",
      "T♣\n",
      "A♣\n",
      "Q♣\n",
      "False\n"
     ]
    },
    {
     "data": {
      "text/plain": [
       "(array([[0., 0., 0., 0., 0., 0., 0., 0.],\n",
       "        [0., 0., 0., 0., 0., 0., 0., 0.],\n",
       "        [0., 1., 0., 0., 0., 0., 0., 0.],\n",
       "        [0., 0., 0., 0., 0., 0., 0., 0.],\n",
       "        [0., 0., 0., 0., 0., 0., 0., 0.],\n",
       "        [0., 0., 0., 0., 0., 0., 0., 0.],\n",
       "        [0., 0., 0., 1., 0., 0., 0., 0.],\n",
       "        [0., 0., 0., 0., 0., 0., 0., 0.],\n",
       "        [0., 0., 0., 0., 0., 0., 0., 0.],\n",
       "        [0., 0., 0., 0., 0., 0., 0., 0.],\n",
       "        [1., 0., 0., 0., 0., 0., 0., 0.],\n",
       "        [0., 0., 0., 0., 0., 0., 0., 0.],\n",
       "        [0., 0., 0., 0., 0., 0., 0., 0.],\n",
       "        [0., 0., 0., 0., 0., 0., 0., 0.],\n",
       "        [0., 0., 1., 0., 0., 0., 0., 0.],\n",
       "        [0., 0., 0., 0., 0., 0., 0., 0.]]),\n",
       " 5,\n",
       " False,\n",
       " (2, 'A', 'C'))"
      ]
     },
     "execution_count": 216,
     "metadata": {},
     "output_type": "execute_result"
    }
   ],
   "source": [
    "# m = env.Mendikot(cards_per_player=4)\n",
    "# m.reset()\n",
    "\n",
    "print(\"Starting Game\")\n",
    "for p in range(AGENT, OPPONENT_2+1):\n",
    "    cards = m.get_available_cards(p)\n",
    "    render_str = m.get_render_str(cards_list=cards)\n",
    "    print(f\"{PLAYER_RENDER[p]:}\\t{render_str}\")\n",
    "print(f\"TRUMP\\t{SUITS_RENDER[m.trump_suit]}\")\n",
    "\n",
    "c = np.random.choice(m.get_available_cards(AGENT))\n",
    "print(m.get_render_str(c))\n",
    "m.step(c, AGENT)\n",
    "\n",
    "c = np.random.choice(m.get_available_cards(OPPONENT_1))\n",
    "print(m.get_render_str(c))\n",
    "m.step(c, OPPONENT_1)\n",
    "\n",
    "c = np.random.choice(m.get_available_cards(TEAMMATE))\n",
    "print(m.get_render_str(c))\n",
    "m.step(c, TEAMMATE)\n",
    "\n",
    "c = np.random.choice(m.get_available_cards(OPPONENT_2))\n",
    "print(m.get_render_str(c))\n",
    "m.step(c, OPPONENT_2)\n",
    "\n",
    "# winner = m.evaluate_trick()\n",
    "# print(f\"Winner is {PLAYER_RENDER[winner]}\")\n",
    "# print(m.is_ten_in_trick())"
   ]
  },
  {
   "cell_type": "code",
   "execution_count": 20,
   "metadata": {},
   "outputs": [],
   "source": [
    "import os"
   ]
  },
  {
   "cell_type": "code",
   "execution_count": 22,
   "metadata": {},
   "outputs": [
    {
     "name": "stdout",
     "output_type": "stream",
     "text": [
      "GAMING CONSOLE BY NEERAJ AND ANWAY!\n",
      "------------------------\n",
      "\n",
      "MENDIKOT: WHERE REAL CHAMPIONS ARE MADE!\n",
      "Starting Game\n",
      "AGENT\tT♣ T♦ K♥ A♥ A♣ \n",
      "OPPNT1\tT♠ T♥ Q♣ A♠ A♦ \n",
      "TEAM\tJ♣ J♦ Q♥ K♠ K♦ \n",
      "OPPNT2\tJ♠ J♥ Q♠ Q♦ K♣ \n",
      "TRUMP\t♣\n",
      "\n",
      " ----------------------- \n",
      "\n",
      "New Trick Starts\n",
      "TEAM\n",
      "Cards on Table : J♣ \n",
      "OPPNT2\n",
      "Cards on Table : J♣ K♣ \n",
      "AGENT\n",
      "AGENT\tT♣ A♣ \n",
      "Cards on Table : T♣ J♣ K♣ \n",
      "OPPNT1\n",
      "Cards on Table : \n",
      "Reward: -5 Winner Info: (3, 'K', 'C') Terminated: False\n",
      "New Trick Starts\n",
      "OPPNT2\n",
      "Cards on Table : J♥ \n",
      "AGENT\n",
      "AGENT\tK♥ A♥ \n",
      "Cards on Table : J♥ K♥ \n",
      "OPPNT1\n",
      "Cards on Table : T♥ J♥ K♥ \n",
      "TEAM\n",
      "Cards on Table : \n",
      "Reward: 5 Winner Info: (0, 'K', 'H') Terminated: False\n",
      "New Trick Starts\n",
      "AGENT\n",
      "AGENT\tT♦ A♥ A♣ \n",
      "Cards on Table : T♦ \n",
      "OPPNT1\n",
      "Cards on Table : T♦ A♦ \n",
      "TEAM\n",
      "Cards on Table : T♦ J♦ A♦ \n",
      "OPPNT2\n",
      "Cards on Table : \n",
      "Reward: -5 Winner Info: (1, 'A', 'D') Terminated: False\n",
      "New Trick Starts\n",
      "OPPNT1\n",
      "Cards on Table : T♠ \n",
      "TEAM\n",
      "Cards on Table : T♠ K♠ \n",
      "OPPNT2\n",
      "Cards on Table : T♠ Q♠ K♠ \n",
      "AGENT\n",
      "AGENT\tA♥ A♣ \n",
      "Cards on Table : \n",
      "Reward: 5 Winner Info: (2, 'K', 'S') Terminated: False\n",
      "New Trick Starts\n",
      "TEAM\n",
      "Cards on Table : K♦ \n",
      "OPPNT2\n",
      "Cards on Table : J♠ K♦ \n",
      "AGENT\n",
      "AGENT\tA♣ \n",
      "Cards on Table : J♠ K♦ A♣ \n",
      "OPPNT1\n",
      "Cards on Table : \n",
      "Reward: 10 Winner Info: (2, 'K', 'D') Terminated: True\n",
      "Game Winner: AGENT\n"
     ]
    }
   ],
   "source": [
    "m = env.Mendikot(cards_per_player = 5)\n",
    "players = [AGENT, OPPONENT_1, TEAMMATE, OPPONENT_2]\n",
    "curr_player = np.random.choice(players)\n",
    "_ = m.reset()\n",
    "\n",
    "print(\"Starting Game\")\n",
    "for p in range(AGENT, OPPONENT_2+1):\n",
    "    cards = m.get_available_cards(p)\n",
    "    render_str = m.get_render_str(cards_list=cards)\n",
    "    print(f\"{PLAYER_RENDER[p]:}\\t{render_str}\")\n",
    "print(f\"TRUMP\\t{SUITS_RENDER[m.trump_suit]}\")\n",
    "print(\"\\n ----------------------- \\n\")\n",
    "\n",
    "terminated = False\n",
    "next_player = int(np.random.choice(3))\n",
    "\n",
    "while not terminated:\n",
    "    print(\"New Trick Starts\")\n",
    "    for iter in range(4):\n",
    "        player = (next_player+iter) % 4\n",
    "        print(PLAYER_RENDER[player])\n",
    "        \n",
    "        if player == AGENT:\n",
    "            cards = m.get_available_cards(player)\n",
    "            render_str = m.get_render_str(cards_list=cards)\n",
    "            print(f\"{PLAYER_RENDER[player]:}\\t{render_str}\")\n",
    "            inp = int(input('Enter card choice'))\n",
    "            choice = cards[inp]\n",
    "        else:\n",
    "            choice = np.random.choice(m.get_available_cards(player))\n",
    "\n",
    "        next_state, reward, terminated, winner_info = m.step(choice,player)\n",
    "\n",
    "        cards_in_trick = m.get_cards_in_trick()\n",
    "        render_str = m.get_render_str(cards_list=cards_in_trick)\n",
    "        \n",
    "        print(f\"Cards on Table : {render_str}\")\n",
    "\n",
    "    print(f\"Reward: {reward} Winner Info: {winner_info}\")\n",
    "    next_player = int(winner_info[0])\n",
    "\n",
    "print(f\"Game Winner: {PLAYER_RENDER[m.get_game_winner()]}\")"
   ]
  },
  {
   "cell_type": "markdown",
   "metadata": {},
   "source": [
    "THIS FILE SHALL BE USED FOR TESTING"
   ]
  },
  {
   "cell_type": "markdown",
   "metadata": {},
   "source": []
  }
 ],
 "metadata": {
  "kernelspec": {
   "display_name": "Python 3",
   "language": "python",
   "name": "python3"
  },
  "language_info": {
   "codemirror_mode": {
    "name": "ipython",
    "version": 3
   },
   "file_extension": ".py",
   "mimetype": "text/x-python",
   "name": "python",
   "nbconvert_exporter": "python",
   "pygments_lexer": "ipython3",
   "version": "3.10.11"
  }
 },
 "nbformat": 4,
 "nbformat_minor": 2
}
