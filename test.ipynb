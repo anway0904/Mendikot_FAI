{
 "cells": [
  {
   "cell_type": "code",
   "execution_count": 6,
   "metadata": {},
   "outputs": [],
   "source": [
    "import numpy as np\n",
    "import env, MACROS"
   ]
  },
  {
   "cell_type": "code",
   "execution_count": null,
   "metadata": {},
   "outputs": [],
   "source": [
    "np.arange(52*12).reshape(52, 12)"
   ]
  },
  {
   "cell_type": "code",
   "execution_count": 8,
   "metadata": {},
   "outputs": [
    {
     "name": "stdout",
     "output_type": "stream",
     "text": [
      "CARD_FOR_PLAYING\n"
     ]
    },
    {
     "ename": "AttributeError",
     "evalue": "module 'MACROS' has no attribute 'item'",
     "output_type": "error",
     "traceback": [
      "\u001b[1;31m---------------------------------------------------------------------------\u001b[0m",
      "\u001b[1;31mAttributeError\u001b[0m                            Traceback (most recent call last)",
      "Cell \u001b[1;32mIn [8], line 9\u001b[0m\n\u001b[0;32m      7\u001b[0m \u001b[38;5;28;01mfor\u001b[39;00m item \u001b[38;5;129;01min\u001b[39;00m macro_list:\n\u001b[0;32m      8\u001b[0m     \u001b[38;5;28mprint\u001b[39m(item)\n\u001b[1;32m----> 9\u001b[0m     \u001b[38;5;28mprint\u001b[39m(\u001b[43mMACROS\u001b[49m\u001b[38;5;241;43m.\u001b[39;49m\u001b[43mitem\u001b[49m)\n",
      "\u001b[1;31mAttributeError\u001b[0m: module 'MACROS' has no attribute 'item'"
     ]
    }
   ],
   "source": [
    "# PRINT THE game_matrix\n",
    "mendikot = env.Mendikot()\n",
    "mendikot.game_matrix\n",
    "macro_list = [\"CARD_FOR_PLAYING\", \"CARD_IN_HAND\", \"CARD_AVAILABLE\", \"CARD_CURR_TRICK_AGENT\", \"CARD_CURR_TRICK_OPPNT_1\", \"CARD_CURR_TRICK_TEAM\", \"CARD_CURR_TRICK_OPPNT_2\", \"CARD_PREV_TRICK_AGENT\",\n",
    "\"CARD_PREV_TRICK_OPPNT_1\", \"CARD_PREV_TRICK_TEAM\", \"CARD_PREV_TRICK_OPPNT_2\", \"CARD_TRUMP\"]\n",
    "\n",
    "for item in macro_list:\n",
    "    print(item)\n",
    "    print(MACROS.item)"
   ]
  },
  {
   "cell_type": "markdown",
   "metadata": {},
   "source": [
    "THIS FILE SHALL BE USED FOR TESTING"
   ]
  },
  {
   "cell_type": "markdown",
   "metadata": {},
   "source": []
  }
 ],
 "metadata": {
  "kernelspec": {
   "display_name": "Python 3",
   "language": "python",
   "name": "python3"
  },
  "language_info": {
   "codemirror_mode": {
    "name": "ipython",
    "version": 3
   },
   "file_extension": ".py",
   "mimetype": "text/x-python",
   "name": "python",
   "nbconvert_exporter": "python",
   "pygments_lexer": "ipython3",
   "version": "3.10.11"
  }
 },
 "nbformat": 4,
 "nbformat_minor": 2
}
