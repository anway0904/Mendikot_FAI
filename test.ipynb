{
 "cells": [
  {
   "cell_type": "code",
   "execution_count": 1,
   "metadata": {},
   "outputs": [],
   "source": [
    "%load_ext autoreload\n",
    "%autoreload 2\n",
    "import numpy as np\n",
    "import env\n",
    "from MACROS import *"
   ]
  },
  {
   "cell_type": "code",
   "execution_count": 2,
   "metadata": {},
   "outputs": [
    {
     "data": {
      "text/plain": [
       "array([[0., 0., 0., 0., 0., 0., 0., 0., 0., 0., 0., 0., 0., 0., 1.],\n",
       "       [0., 0., 0., 0., 0., 0., 0., 0., 0., 0., 0., 0., 0., 0., 0.],\n",
       "       [0., 0., 0., 0., 0., 0., 0., 0., 0., 0., 0., 0., 0., 0., 0.],\n",
       "       [0., 0., 0., 0., 0., 0., 0., 0., 0., 0., 0., 0., 0., 0., 0.],\n",
       "       [0., 0., 0., 0., 0., 0., 0., 0., 0., 0., 0., 0., 0., 0., 1.],\n",
       "       [0., 0., 0., 0., 0., 0., 0., 0., 0., 0., 0., 0., 0., 0., 0.],\n",
       "       [0., 0., 0., 0., 0., 0., 0., 0., 0., 0., 0., 0., 0., 0., 0.],\n",
       "       [0., 0., 0., 0., 0., 0., 0., 0., 0., 0., 0., 0., 0., 0., 0.],\n",
       "       [0., 0., 0., 0., 0., 0., 0., 0., 0., 0., 0., 0., 0., 0., 1.],\n",
       "       [0., 0., 0., 0., 0., 0., 0., 0., 0., 0., 0., 0., 0., 0., 0.],\n",
       "       [0., 0., 0., 0., 0., 0., 0., 0., 0., 0., 0., 0., 0., 0., 0.],\n",
       "       [0., 0., 0., 0., 0., 0., 0., 0., 0., 0., 0., 0., 0., 0., 0.],\n",
       "       [0., 0., 0., 0., 0., 0., 0., 0., 0., 0., 0., 0., 0., 0., 1.],\n",
       "       [0., 0., 0., 0., 0., 0., 0., 0., 0., 0., 0., 0., 0., 0., 0.],\n",
       "       [0., 0., 0., 0., 0., 0., 0., 0., 0., 0., 0., 0., 0., 0., 0.],\n",
       "       [0., 0., 0., 0., 0., 0., 0., 0., 0., 0., 0., 0., 0., 0., 0.],\n",
       "       [0., 0., 0., 0., 0., 0., 0., 0., 0., 0., 0., 0., 0., 0., 1.],\n",
       "       [0., 0., 0., 0., 0., 0., 0., 0., 0., 0., 0., 0., 0., 0., 0.],\n",
       "       [0., 0., 0., 0., 0., 0., 0., 0., 0., 0., 0., 0., 0., 0., 0.],\n",
       "       [0., 0., 0., 0., 0., 0., 0., 0., 0., 0., 0., 0., 0., 0., 0.],\n",
       "       [0., 0., 0., 0., 0., 0., 0., 0., 0., 0., 0., 0., 0., 0., 1.],\n",
       "       [0., 0., 0., 0., 0., 0., 0., 0., 0., 0., 0., 0., 0., 0., 0.],\n",
       "       [0., 0., 0., 0., 0., 0., 0., 0., 0., 0., 0., 0., 0., 0., 0.],\n",
       "       [0., 0., 0., 0., 0., 0., 0., 0., 0., 0., 0., 0., 0., 0., 0.],\n",
       "       [0., 0., 0., 0., 0., 0., 0., 0., 0., 0., 0., 0., 0., 0., 1.],\n",
       "       [0., 0., 0., 0., 0., 0., 0., 0., 0., 0., 0., 0., 0., 0., 0.],\n",
       "       [0., 0., 0., 0., 0., 0., 0., 0., 0., 0., 0., 0., 0., 0., 0.],\n",
       "       [0., 0., 0., 0., 0., 0., 0., 0., 0., 0., 0., 0., 0., 0., 0.],\n",
       "       [0., 0., 0., 0., 0., 0., 0., 0., 0., 0., 0., 0., 0., 0., 1.],\n",
       "       [0., 0., 0., 0., 0., 0., 0., 0., 0., 0., 0., 0., 0., 0., 0.],\n",
       "       [0., 0., 0., 0., 0., 0., 0., 0., 0., 0., 0., 0., 0., 0., 0.],\n",
       "       [0., 0., 0., 0., 0., 0., 0., 0., 0., 0., 0., 0., 0., 0., 0.],\n",
       "       [1., 0., 1., 0., 0., 0., 0., 0., 0., 0., 0., 0., 0., 0., 1.],\n",
       "       [1., 0., 1., 0., 0., 0., 0., 0., 0., 0., 0., 0., 0., 0., 0.],\n",
       "       [1., 1., 0., 0., 0., 0., 0., 0., 0., 0., 0., 0., 0., 0., 0.],\n",
       "       [1., 0., 0., 1., 0., 0., 0., 0., 0., 0., 0., 0., 0., 0., 0.],\n",
       "       [0., 0., 0., 0., 0., 0., 0., 0., 0., 0., 0., 0., 0., 0., 1.],\n",
       "       [0., 0., 0., 0., 0., 0., 0., 0., 0., 0., 0., 0., 0., 0., 0.],\n",
       "       [0., 0., 0., 0., 0., 0., 0., 0., 0., 0., 0., 0., 0., 0., 0.],\n",
       "       [0., 0., 0., 0., 0., 0., 0., 0., 0., 0., 0., 0., 0., 0., 0.],\n",
       "       [1., 1., 0., 0., 0., 0., 0., 0., 0., 0., 0., 0., 0., 0., 1.],\n",
       "       [1., 0., 0., 0., 1., 0., 0., 0., 0., 0., 0., 0., 0., 0., 0.],\n",
       "       [1., 1., 0., 0., 0., 0., 0., 0., 0., 0., 0., 0., 0., 0., 0.],\n",
       "       [1., 0., 0., 0., 1., 0., 0., 0., 0., 0., 0., 0., 0., 0., 0.],\n",
       "       [1., 0., 1., 0., 0., 0., 0., 0., 0., 0., 0., 0., 0., 0., 1.],\n",
       "       [1., 1., 0., 0., 0., 0., 0., 0., 0., 0., 0., 0., 0., 0., 0.],\n",
       "       [1., 0., 1., 0., 0., 0., 0., 0., 0., 0., 0., 0., 0., 0., 0.],\n",
       "       [1., 0., 0., 0., 1., 0., 0., 0., 0., 0., 0., 0., 0., 0., 0.],\n",
       "       [1., 0., 0., 1., 0., 0., 0., 0., 0., 0., 0., 0., 0., 0., 1.],\n",
       "       [1., 0., 0., 1., 0., 0., 0., 0., 0., 0., 0., 0., 0., 0., 0.],\n",
       "       [1., 0., 0., 0., 1., 0., 0., 0., 0., 0., 0., 0., 0., 0., 0.],\n",
       "       [1., 0., 0., 1., 0., 0., 0., 0., 0., 0., 0., 0., 0., 0., 0.]])"
      ]
     },
     "execution_count": 2,
     "metadata": {},
     "output_type": "execute_result"
    }
   ],
   "source": [
    "m = env.Mendikot(cards_per_player=4)\n",
    "m.reset()\n",
    "m.game_matrix"
   ]
  },
  {
   "cell_type": "code",
   "execution_count": 3,
   "metadata": {},
   "outputs": [
    {
     "name": "stdout",
     "output_type": "stream",
     "text": [
      "0\n",
      "4\n",
      "8\n"
     ]
    }
   ],
   "source": [
    "for i in range(0,10, 4):\n",
    "    print(i)"
   ]
  },
  {
   "cell_type": "code",
   "execution_count": 4,
   "metadata": {},
   "outputs": [
    {
     "name": "stdout",
     "output_type": "stream",
     "text": [
      "12\n"
     ]
    }
   ],
   "source": [
    "SUITS = ['S', 'H', 'C', 'D']\n",
    "CARDS = ['2', '3', '4', '5', '6', '7', '8', '9', 'T', 'J', 'Q', 'K', 'A']\n",
    "CARD_IDX = np.arange(len(CARDS)*len(SUITS)).reshape(len(CARDS), len(SUITS))\n",
    "\n",
    "print(CARD_IDX[CARDS.index('5'),SUITS.index('S')])"
   ]
  },
  {
   "cell_type": "markdown",
   "metadata": {},
   "source": [
    "Get Card Data from game_matrix"
   ]
  },
  {
   "cell_type": "code",
   "execution_count": 5,
   "metadata": {},
   "outputs": [
    {
     "name": "stdout",
     "output_type": "stream",
     "text": [
      "Card: 9 S\n",
      "Card Index : 28\n",
      "\n",
      "--------------------------\n",
      "\n",
      "CARD_FOR_PLAYING : 0.0\n",
      "CARD_IN_HAND_AGENT : 0.0\n",
      "CARD_IN_HAND_OPPNT_1 : 0.0\n",
      "CARD_IN_HAND_TEAM : 0.0\n",
      "CARD_IN_HAND_OPPNT_2 : 0.0\n",
      "CARD_AVAILABLE : 0.0\n",
      "CARD_CURR_TRICK_AGENT : 0.0\n",
      "CARD_CURR_TRICK_OPPNT_1 : 0.0\n",
      "CARD_CURR_TRICK_TEAM : 0.0\n",
      "CARD_CURR_TRICK_OPPNT_2 : 0.0\n",
      "CARD_PREV_TRICK_AGENT : 0.0\n",
      "CARD_PREV_TRICK_OPPNT_1 : 0.0\n",
      "CARD_PREV_TRICK_TEAM : 0.0\n",
      "CARD_PREV_TRICK_OPPNT_2 : 0.0\n",
      "CARD_TRUMP : 0.0\n"
     ]
    }
   ],
   "source": [
    "# PRINT THE game_matrix\n",
    "mendikot = env.Mendikot()\n",
    "\n",
    "macro_list = [\n",
    "    \"CARD_FOR_PLAYING\",\n",
    "    \"CARD_IN_HAND_AGENT\",\n",
    "    \"CARD_IN_HAND_OPPNT_1\",\n",
    "    \"CARD_IN_HAND_TEAM\",\n",
    "    \"CARD_IN_HAND_OPPNT_2\",\n",
    "    \"CARD_AVAILABLE\",\n",
    "    \"CARD_CURR_TRICK_AGENT\",\n",
    "    \"CARD_CURR_TRICK_OPPNT_1\",\n",
    "    \"CARD_CURR_TRICK_TEAM\",\n",
    "    \"CARD_CURR_TRICK_OPPNT_2\",\n",
    "    \"CARD_PREV_TRICK_AGENT\",\n",
    "    \"CARD_PREV_TRICK_OPPNT_1\",\n",
    "    \"CARD_PREV_TRICK_TEAM\",\n",
    "    \"CARD_PREV_TRICK_OPPNT_2\",\n",
    "    \"CARD_TRUMP\"\n",
    "]\n",
    "\n",
    "card = '9'\n",
    "suit = 'S'\n",
    "\n",
    "card_index = CARD_IDX[CARDS.index(card), SUITS.index(suit)]\n",
    "print(f\"Card: {card} {suit}\")\n",
    "print(f\"Card Index : {card_index}\")\n",
    "\n",
    "print(\"\\n--------------------------\\n\")\n",
    "for item in macro_list:\n",
    "    print(f\"{item} : {mendikot.game_matrix[card_index,macro_list.index(item)]}\")\n"
   ]
  },
  {
   "cell_type": "code",
   "execution_count": 16,
   "metadata": {},
   "outputs": [
    {
     "name": "stdout",
     "output_type": "stream",
     "text": [
      "[32 33 34 35 40 41 42 43 44 45 46 47 48 49 50 51]\n",
      "[35 42 46 51]\n",
      "[32 41 43 48]\n",
      "[33 34 45 50]\n",
      "[40 44 47 49]\n",
      "[[1. 0. 0. 0. 0. 0. 0. 0. 0. 1. 0. 0. 0. 0. 0.]\n",
      " [1. 0. 0. 0. 0. 0. 1. 0. 0. 0. 0. 0. 0. 0. 1.]\n",
      " [1. 0. 0. 0. 0. 0. 0. 1. 0. 0. 0. 0. 0. 0. 0.]\n",
      " [1. 0. 0. 0. 0. 0. 0. 0. 1. 0. 0. 0. 0. 0. 0.]]\n",
      "[[1. 0. 0. 0. 0. 0. 0. 0. 0. 0. 0. 0. 0. 1. 0.]\n",
      " [1. 0. 0. 0. 0. 0. 0. 0. 0. 0. 1. 0. 0. 0. 1.]\n",
      " [1. 0. 0. 0. 0. 0. 0. 0. 0. 0. 0. 1. 0. 0. 0.]\n",
      " [1. 0. 0. 0. 0. 0. 0. 0. 0. 0. 0. 0. 1. 0. 0.]]\n",
      "[]\n"
     ]
    }
   ],
   "source": [
    "m = env.Mendikot(cards_per_player=4)\n",
    "m.reset()\n",
    "m.game_matrix\n",
    "print(m.get_cards_in_play())\n",
    "\n",
    "\n",
    "id1 = m.get_cards_in_hand(AGENT)\n",
    "print(id1)\n",
    "id2 = m.get_cards_in_hand(OPPONENT_1)\n",
    "print(id2)\n",
    "id3 = m.get_cards_in_hand(OPPONENT_2)\n",
    "print(id3)\n",
    "id4 = m.get_cards_in_hand(TEAMMATE)\n",
    "print(id4)\n",
    "\n",
    "\n",
    "card = np.random.choice(id1)\n",
    "m.step(action=card, player_type=AGENT)\n",
    "card = np.random.choice(id2)\n",
    "m.step(action=card, player_type=OPPONENT_1)\n",
    "card = np.random.choice(id3)\n",
    "m.step(action=card, player_type=OPPONENT_2)\n",
    "card = np.random.choice(id4)\n",
    "m.step(action=card, player_type=TEAMMATE)\n",
    "\n",
    "m.update_game()\n",
    "\n",
    "\n",
    "id = m.get_cards_in_trick()\n",
    "print(id)"
   ]
  },
  {
   "cell_type": "code",
   "execution_count": 7,
   "metadata": {},
   "outputs": [
    {
     "data": {
      "text/plain": [
       "array([], dtype=int64)"
      ]
     },
     "execution_count": 7,
     "metadata": {},
     "output_type": "execute_result"
    }
   ],
   "source": [
    "mendikot.get_cards_in_play()"
   ]
  },
  {
   "cell_type": "code",
   "execution_count": null,
   "metadata": {},
   "outputs": [],
   "source": []
  },
  {
   "cell_type": "markdown",
   "metadata": {},
   "source": [
    "THIS FILE SHALL BE USED FOR TESTING"
   ]
  },
  {
   "cell_type": "markdown",
   "metadata": {},
   "source": []
  }
 ],
 "metadata": {
  "kernelspec": {
   "display_name": "Python 3",
   "language": "python",
   "name": "python3"
  },
  "language_info": {
   "codemirror_mode": {
    "name": "ipython",
    "version": 3
   },
   "file_extension": ".py",
   "mimetype": "text/x-python",
   "name": "python",
   "nbconvert_exporter": "python",
   "pygments_lexer": "ipython3",
   "version": "3.10.11"
  }
 },
 "nbformat": 4,
 "nbformat_minor": 2
}
