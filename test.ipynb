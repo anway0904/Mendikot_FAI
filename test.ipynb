{
 "cells": [
  {
   "cell_type": "code",
   "execution_count": 199,
   "metadata": {},
   "outputs": [
    {
     "name": "stdout",
     "output_type": "stream",
     "text": [
      "The autoreload extension is already loaded. To reload it, use:\n",
      "  %reload_ext autoreload\n"
     ]
    }
   ],
   "source": [
    "%load_ext autoreload\n",
    "%autoreload 2\n",
    "import numpy as np\n",
    "import env\n",
    "from MACROS import *"
   ]
  },
  {
   "cell_type": "code",
   "execution_count": 200,
   "metadata": {},
   "outputs": [
    {
     "data": {
      "text/plain": [
       "array([[0., 0., 0., 0., 0., 0., 0., 0., 0., 0., 0., 0., 0., 0., 0.],\n",
       "       [0., 0., 0., 0., 0., 0., 0., 0., 0., 0., 0., 0., 0., 0., 0.],\n",
       "       [0., 0., 0., 0., 0., 0., 0., 0., 0., 0., 0., 0., 0., 0., 1.],\n",
       "       [0., 0., 0., 0., 0., 0., 0., 0., 0., 0., 0., 0., 0., 0., 0.],\n",
       "       [0., 0., 0., 0., 0., 0., 0., 0., 0., 0., 0., 0., 0., 0., 0.],\n",
       "       [0., 0., 0., 0., 0., 0., 0., 0., 0., 0., 0., 0., 0., 0., 0.],\n",
       "       [0., 0., 0., 0., 0., 0., 0., 0., 0., 0., 0., 0., 0., 0., 1.],\n",
       "       [0., 0., 0., 0., 0., 0., 0., 0., 0., 0., 0., 0., 0., 0., 0.],\n",
       "       [0., 0., 0., 0., 0., 0., 0., 0., 0., 0., 0., 0., 0., 0., 0.],\n",
       "       [0., 0., 0., 0., 0., 0., 0., 0., 0., 0., 0., 0., 0., 0., 0.],\n",
       "       [0., 0., 0., 0., 0., 0., 0., 0., 0., 0., 0., 0., 0., 0., 1.],\n",
       "       [0., 0., 0., 0., 0., 0., 0., 0., 0., 0., 0., 0., 0., 0., 0.],\n",
       "       [0., 0., 0., 0., 0., 0., 0., 0., 0., 0., 0., 0., 0., 0., 0.],\n",
       "       [0., 0., 0., 0., 0., 0., 0., 0., 0., 0., 0., 0., 0., 0., 0.],\n",
       "       [0., 0., 0., 0., 0., 0., 0., 0., 0., 0., 0., 0., 0., 0., 1.],\n",
       "       [0., 0., 0., 0., 0., 0., 0., 0., 0., 0., 0., 0., 0., 0., 0.],\n",
       "       [0., 0., 0., 0., 0., 0., 0., 0., 0., 0., 0., 0., 0., 0., 0.],\n",
       "       [0., 0., 0., 0., 0., 0., 0., 0., 0., 0., 0., 0., 0., 0., 0.],\n",
       "       [0., 0., 0., 0., 0., 0., 0., 0., 0., 0., 0., 0., 0., 0., 1.],\n",
       "       [0., 0., 0., 0., 0., 0., 0., 0., 0., 0., 0., 0., 0., 0., 0.],\n",
       "       [0., 0., 0., 0., 0., 0., 0., 0., 0., 0., 0., 0., 0., 0., 0.],\n",
       "       [0., 0., 0., 0., 0., 0., 0., 0., 0., 0., 0., 0., 0., 0., 0.],\n",
       "       [0., 0., 0., 0., 0., 0., 0., 0., 0., 0., 0., 0., 0., 0., 1.],\n",
       "       [0., 0., 0., 0., 0., 0., 0., 0., 0., 0., 0., 0., 0., 0., 0.],\n",
       "       [0., 0., 0., 0., 0., 0., 0., 0., 0., 0., 0., 0., 0., 0., 0.],\n",
       "       [0., 0., 0., 0., 0., 0., 0., 0., 0., 0., 0., 0., 0., 0., 0.],\n",
       "       [0., 0., 0., 0., 0., 0., 0., 0., 0., 0., 0., 0., 0., 0., 1.],\n",
       "       [0., 0., 0., 0., 0., 0., 0., 0., 0., 0., 0., 0., 0., 0., 0.],\n",
       "       [0., 0., 0., 0., 0., 0., 0., 0., 0., 0., 0., 0., 0., 0., 0.],\n",
       "       [0., 0., 0., 0., 0., 0., 0., 0., 0., 0., 0., 0., 0., 0., 0.],\n",
       "       [0., 0., 0., 0., 0., 0., 0., 0., 0., 0., 0., 0., 0., 0., 1.],\n",
       "       [0., 0., 0., 0., 0., 0., 0., 0., 0., 0., 0., 0., 0., 0., 0.],\n",
       "       [1., 1., 0., 0., 0., 0., 0., 0., 0., 0., 0., 0., 0., 0., 0.],\n",
       "       [1., 0., 0., 1., 0., 0., 0., 0., 0., 0., 0., 0., 0., 0., 0.],\n",
       "       [1., 0., 0., 1., 0., 0., 0., 0., 0., 0., 0., 0., 0., 0., 1.],\n",
       "       [1., 0., 1., 0., 0., 0., 0., 0., 0., 0., 0., 0., 0., 0., 0.],\n",
       "       [0., 0., 0., 0., 0., 0., 0., 0., 0., 0., 0., 0., 0., 0., 0.],\n",
       "       [0., 0., 0., 0., 0., 0., 0., 0., 0., 0., 0., 0., 0., 0., 0.],\n",
       "       [0., 0., 0., 0., 0., 0., 0., 0., 0., 0., 0., 0., 0., 0., 1.],\n",
       "       [0., 0., 0., 0., 0., 0., 0., 0., 0., 0., 0., 0., 0., 0., 0.],\n",
       "       [1., 0., 0., 0., 1., 0., 0., 0., 0., 0., 0., 0., 0., 0., 0.],\n",
       "       [1., 1., 0., 0., 0., 0., 0., 0., 0., 0., 0., 0., 0., 0., 0.],\n",
       "       [1., 1., 0., 0., 0., 0., 0., 0., 0., 0., 0., 0., 0., 0., 1.],\n",
       "       [1., 0., 0., 0., 1., 0., 0., 0., 0., 0., 0., 0., 0., 0., 0.],\n",
       "       [1., 0., 0., 0., 1., 0., 0., 0., 0., 0., 0., 0., 0., 0., 0.],\n",
       "       [1., 0., 1., 0., 0., 0., 0., 0., 0., 0., 0., 0., 0., 0., 0.],\n",
       "       [1., 0., 1., 0., 0., 0., 0., 0., 0., 0., 0., 0., 0., 0., 1.],\n",
       "       [1., 0., 0., 0., 1., 0., 0., 0., 0., 0., 0., 0., 0., 0., 0.],\n",
       "       [1., 1., 0., 0., 0., 0., 0., 0., 0., 0., 0., 0., 0., 0., 0.],\n",
       "       [1., 0., 1., 0., 0., 0., 0., 0., 0., 0., 0., 0., 0., 0., 0.],\n",
       "       [1., 0., 0., 1., 0., 0., 0., 0., 0., 0., 0., 0., 0., 0., 1.],\n",
       "       [1., 0., 0., 1., 0., 0., 0., 0., 0., 0., 0., 0., 0., 0., 0.]])"
      ]
     },
     "execution_count": 200,
     "metadata": {},
     "output_type": "execute_result"
    }
   ],
   "source": [
    "m = env.Mendikot(cards_per_player=4)\n",
    "m.reset()\n",
    "m.game_matrix"
   ]
  },
  {
   "cell_type": "code",
   "execution_count": 201,
   "metadata": {},
   "outputs": [
    {
     "name": "stdout",
     "output_type": "stream",
     "text": [
      "0\n",
      "4\n",
      "8\n"
     ]
    }
   ],
   "source": [
    "for i in range(0,10, 4):\n",
    "    print(i)"
   ]
  },
  {
   "cell_type": "code",
   "execution_count": 202,
   "metadata": {},
   "outputs": [
    {
     "name": "stdout",
     "output_type": "stream",
     "text": [
      "12\n"
     ]
    }
   ],
   "source": [
    "SUITS = ['S', 'H', 'C', 'D']\n",
    "CARDS = ['2', '3', '4', '5', '6', '7', '8', '9', 'T', 'J', 'Q', 'K', 'A']\n",
    "CARD_IDX = np.arange(len(CARDS)*len(SUITS)).reshape(len(CARDS), len(SUITS))\n",
    "\n",
    "print(CARD_IDX[CARDS.index('5'),SUITS.index('S')])"
   ]
  },
  {
   "cell_type": "markdown",
   "metadata": {},
   "source": [
    "Get Card Data from game_matrix"
   ]
  },
  {
   "cell_type": "code",
   "execution_count": 203,
   "metadata": {},
   "outputs": [
    {
     "name": "stdout",
     "output_type": "stream",
     "text": [
      "Card: 9 S\n",
      "Card Index : 28\n",
      "\n",
      "--------------------------\n",
      "\n",
      "CARD_FOR_PLAYING : 0.0\n",
      "CARD_IN_HAND_AGENT : 0.0\n",
      "CARD_IN_HAND_OPPNT_1 : 0.0\n",
      "CARD_IN_HAND_TEAM : 0.0\n",
      "CARD_IN_HAND_OPPNT_2 : 0.0\n",
      "CARD_AVAILABLE : 0.0\n",
      "CARD_CURR_TRICK_AGENT : 0.0\n",
      "CARD_CURR_TRICK_OPPNT_1 : 0.0\n",
      "CARD_CURR_TRICK_TEAM : 0.0\n",
      "CARD_CURR_TRICK_OPPNT_2 : 0.0\n",
      "CARD_PREV_TRICK_AGENT : 0.0\n",
      "CARD_PREV_TRICK_OPPNT_1 : 0.0\n",
      "CARD_PREV_TRICK_TEAM : 0.0\n",
      "CARD_PREV_TRICK_OPPNT_2 : 0.0\n",
      "CARD_TRUMP : 0.0\n"
     ]
    }
   ],
   "source": [
    "# PRINT THE game_matrix\n",
    "mendikot = env.Mendikot()\n",
    "\n",
    "macro_list = [\n",
    "    \"CARD_FOR_PLAYING\",\n",
    "    \"CARD_IN_HAND_AGENT\",\n",
    "    \"CARD_IN_HAND_OPPNT_1\",\n",
    "    \"CARD_IN_HAND_TEAM\",\n",
    "    \"CARD_IN_HAND_OPPNT_2\",\n",
    "    \"CARD_AVAILABLE\",\n",
    "    \"CARD_CURR_TRICK_AGENT\",\n",
    "    \"CARD_CURR_TRICK_OPPNT_1\",\n",
    "    \"CARD_CURR_TRICK_TEAM\",\n",
    "    \"CARD_CURR_TRICK_OPPNT_2\",\n",
    "    \"CARD_PREV_TRICK_AGENT\",\n",
    "    \"CARD_PREV_TRICK_OPPNT_1\",\n",
    "    \"CARD_PREV_TRICK_TEAM\",\n",
    "    \"CARD_PREV_TRICK_OPPNT_2\",\n",
    "    \"CARD_TRUMP\"\n",
    "]\n",
    "\n",
    "card = '9'\n",
    "suit = 'S'\n",
    "\n",
    "card_index = CARD_IDX[CARDS.index(card), SUITS.index(suit)]\n",
    "print(f\"Card: {card} {suit}\")\n",
    "print(f\"Card Index : {card_index}\")\n",
    "\n",
    "print(\"\\n--------------------------\\n\")\n",
    "for item in macro_list:\n",
    "    print(f\"{item} : {mendikot.game_matrix[card_index,macro_list.index(item)]}\")\n"
   ]
  },
  {
   "cell_type": "code",
   "execution_count": 205,
   "metadata": {},
   "outputs": [
    {
     "name": "stdout",
     "output_type": "stream",
     "text": [
      "[33 34 42 46 47]\n",
      "[32 40 43 45 51]\n",
      "[35 37 38 44 49]\n",
      "[36 39 41 48 50]\n"
     ]
    },
    {
     "ename": "AssertionError",
     "evalue": "Please call get_available_cards() first",
     "output_type": "error",
     "traceback": [
      "\u001b[1;31m---------------------------------------------------------------------------\u001b[0m",
      "\u001b[1;31mAssertionError\u001b[0m                            Traceback (most recent call last)",
      "Cell \u001b[1;32mIn [205], line 18\u001b[0m\n\u001b[0;32m     16\u001b[0m card \u001b[38;5;241m=\u001b[39m np\u001b[38;5;241m.\u001b[39mrandom\u001b[38;5;241m.\u001b[39mchoice(id1)\n\u001b[0;32m     17\u001b[0m m\u001b[38;5;241m.\u001b[39mget_render_str(card)\n\u001b[1;32m---> 18\u001b[0m \u001b[43mm\u001b[49m\u001b[38;5;241;43m.\u001b[39;49m\u001b[43mstep\u001b[49m\u001b[43m(\u001b[49m\u001b[43maction\u001b[49m\u001b[38;5;241;43m=\u001b[39;49m\u001b[43mcard\u001b[49m\u001b[43m,\u001b[49m\u001b[43m \u001b[49m\u001b[43mplayer_type\u001b[49m\u001b[38;5;241;43m=\u001b[39;49m\u001b[43mAGENT\u001b[49m\u001b[43m)\u001b[49m\n\u001b[0;32m     20\u001b[0m card \u001b[38;5;241m=\u001b[39m np\u001b[38;5;241m.\u001b[39mrandom\u001b[38;5;241m.\u001b[39mchoice(id2)\n\u001b[0;32m     21\u001b[0m m\u001b[38;5;241m.\u001b[39mget_render_str(card)\n",
      "File \u001b[1;32mc:\\Users\\nrjsb\\OneDrive\\Documents\\Academic Work\\CS 5100 Foundations of Artificial Intelligence\\Project\\Mendikot_FAI\\env.py:223\u001b[0m, in \u001b[0;36mMendikot.step\u001b[1;34m(self, action, player_type)\u001b[0m\n\u001b[0;32m    214\u001b[0m \u001b[38;5;28;01mdef\u001b[39;00m \u001b[38;5;21mstep\u001b[39m(\u001b[38;5;28mself\u001b[39m, action: \u001b[38;5;28mint\u001b[39m, player_type: \u001b[38;5;28mint\u001b[39m):\n\u001b[0;32m    215\u001b[0m     \u001b[38;5;124;03m'''\u001b[39;00m\n\u001b[0;32m    216\u001b[0m \u001b[38;5;124;03m    action is a card from hand the agent should play\u001b[39;00m\n\u001b[0;32m    217\u001b[0m \u001b[38;5;124;03m    every card has a unique integer from 0 to 51\u001b[39;00m\n\u001b[1;32m   (...)\u001b[0m\n\u001b[0;32m    221\u001b[0m \u001b[38;5;124;03m        b. previously choosen card -> update its status - not sure\u001b[39;00m\n\u001b[0;32m    222\u001b[0m \u001b[38;5;124;03m    '''\u001b[39;00m\n\u001b[1;32m--> 223\u001b[0m     \u001b[38;5;28;01massert\u001b[39;00m np\u001b[38;5;241m.\u001b[39many(\u001b[38;5;28mself\u001b[39m\u001b[38;5;241m.\u001b[39mgame_matrix[:, CARD_AVAILABLE]), \u001b[38;5;124m\"\u001b[39m\u001b[38;5;124mPlease call get_available_cards() first\u001b[39m\u001b[38;5;124m\"\u001b[39m\n\u001b[0;32m    224\u001b[0m     \u001b[38;5;28;01mif\u001b[39;00m \u001b[38;5;28mself\u001b[39m\u001b[38;5;241m.\u001b[39mis_trick_empty():\n\u001b[0;32m    225\u001b[0m         _, \u001b[38;5;28mself\u001b[39m\u001b[38;5;241m.\u001b[39mtrick_suit \u001b[38;5;241m=\u001b[39m \u001b[38;5;28mself\u001b[39m\u001b[38;5;241m.\u001b[39mget_card(action)\n",
      "\u001b[1;31mAssertionError\u001b[0m: Please call get_available_cards() first"
     ]
    }
   ],
   "source": [
    "m = env.Mendikot(cards_per_player=5)\n",
    "m.reset()\n",
    "# print(m.get_cards_in_play())\n",
    "\n",
    "# Card in Hand -each player\n",
    "id1 = m.get_cards_in_hand(AGENT)\n",
    "print(id1)\n",
    "id2 = m.get_cards_in_hand(OPPONENT_1)\n",
    "print(id2)\n",
    "id3 = m.get_cards_in_hand(OPPONENT_2)\n",
    "print(id3)\n",
    "id4 = m.get_cards_in_hand(TEAMMATE)\n",
    "print(id4)\n",
    "\n",
    "# Play 4 steps in order\n",
    "card = np.random.choice(id1)\n",
    "m.get_render_str(card)\n",
    "m.step(action=card, player_type=AGENT)\n",
    "\n",
    "card = np.random.choice(id2)\n",
    "m.get_render_str(card)\n",
    "m.step(action=card, player_type=OPPONENT_1)\n",
    "\n",
    "card = np.random.choice(id3)\n",
    "m.get_render_str(card)\n",
    "m.step(action=card, player_type=OPPONENT_2)\n",
    "\n",
    "card = np.random.choice(id4)\n",
    "m.get_render_str(card)\n",
    "m.step(action=card, player_type=TEAMMATE)\n",
    "\n",
    "m.evaluate_trick()\n",
    "# m.update_game()\n",
    "\n",
    "# prev_trick = m.get_cards_in_prev_trick(player=TEAMMATE)\n",
    "# print(prev_trick)\n",
    "\n",
    "# id = m.get_cards_in_trick()\n",
    "# print(id)"
   ]
  },
  {
   "cell_type": "code",
   "execution_count": 210,
   "metadata": {},
   "outputs": [
    {
     "name": "stdout",
     "output_type": "stream",
     "text": [
      "Starting Game\n",
      "AGENT\t2♣ 2♦ 5♥ 6♣ 6♦ 7♥ 8♥ 9♦ Q♠ Q♥ K♣ A♠ A♣ \n",
      "OPPNT1\t2♠ 3♥ 4♠ 4♥ 5♣ 5♦ 6♠ 8♠ 8♣ 8♦ 9♥ T♥ J♣ \n",
      "TEAM\t2♥ 6♥ 7♣ 7♦ T♠ J♠ Q♣ Q♦ K♠ K♥ K♦ A♥ A♦ \n",
      "OPPNT2\t3♠ 3♣ 3♦ 4♣ 4♦ 5♠ 7♠ 9♠ 9♣ T♣ T♦ J♥ J♦ \n",
      "TRUMP\t♥\n",
      "5♥\n",
      "3♥\n",
      "K♥\n",
      "J♥\n",
      "WINNER! K♥\n",
      "Winner is TEAM\n"
     ]
    }
   ],
   "source": [
    "m = env.Mendikot(cards_per_player=13)\n",
    "m.reset()\n",
    "\n",
    "print(\"Starting Game\")\n",
    "for p in range(AGENT, OPPONENT_2+1):\n",
    "    cards = m.get_available_cards(p)\n",
    "    render_str = m.get_render_str(cards_list=cards)\n",
    "    print(f\"{PLAYER_RENDER[p]:}\\t{render_str}\")\n",
    "print(f\"TRUMP\\t{SUITS_RENDER[m.trump_suit]}\")\n",
    "\n",
    "c = np.random.choice(m.get_available_cards(AGENT))\n",
    "print(m.get_render_str(c))\n",
    "m.step(c, AGENT)\n",
    "\n",
    "c = np.random.choice(m.get_available_cards(OPPONENT_1))\n",
    "print(m.get_render_str(c))\n",
    "m.step(c, OPPONENT_1)\n",
    "\n",
    "c = np.random.choice(m.get_available_cards(TEAMMATE))\n",
    "print(m.get_render_str(c))\n",
    "m.step(c, TEAMMATE)\n",
    "\n",
    "c = np.random.choice(m.get_available_cards(OPPONENT_2))\n",
    "print(m.get_render_str(c))\n",
    "m.step(c, OPPONENT_2)\n",
    "\n",
    "winner = m.evaluate_trick()\n",
    "print(f\"Winner is {PLAYER_RENDER[winner]}\")"
   ]
  },
  {
   "cell_type": "markdown",
   "metadata": {},
   "source": [
    "THIS FILE SHALL BE USED FOR TESTING"
   ]
  },
  {
   "cell_type": "markdown",
   "metadata": {},
   "source": []
  }
 ],
 "metadata": {
  "kernelspec": {
   "display_name": "Python 3",
   "language": "python",
   "name": "python3"
  },
  "language_info": {
   "codemirror_mode": {
    "name": "ipython",
    "version": 3
   },
   "file_extension": ".py",
   "mimetype": "text/x-python",
   "name": "python",
   "nbconvert_exporter": "python",
   "pygments_lexer": "ipython3",
   "version": "3.10.11"
  }
 },
 "nbformat": 4,
 "nbformat_minor": 2
}
